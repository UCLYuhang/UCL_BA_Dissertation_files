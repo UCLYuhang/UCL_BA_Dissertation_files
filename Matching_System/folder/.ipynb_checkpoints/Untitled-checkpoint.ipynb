{
 "cells": [
  {
   "cell_type": "markdown",
   "id": "48cd8bf1-2712-4849-8158-72a35d0f5b7d",
   "metadata": {},
   "source": [
    "# Run regression to adjust the weight \n",
    "\n"
   ]
  },
  {
   "cell_type": "code",
   "execution_count": 4,
   "id": "777dc3fb-b615-4292-9ee5-794c5d77e347",
   "metadata": {},
   "outputs": [],
   "source": [
    "import pandas as pd\n",
    "import numpy as np\n",
    "matching_df_final = pd.read_csv('2023.06.15前600个justScore.csv')  "
   ]
  },
  {
   "cell_type": "markdown",
   "id": "33fcf96a-3d5e-48bf-b00b-a202f92a06cc",
   "metadata": {},
   "source": [
    "## Encode the 'status', as our Y values\n",
    "\n",
    "for each score to calculate the final score\n",
    "\n",
    "we input the final score (Y value) to the regression model\n",
    "and input those calculated scores as X values:\n",
    "\n",
    "the final score depends on the status.\n",
    "\n",
    "the following status will have score of 1:\n",
    "'Screened by CP', 'Rejected by client 3rd round', 'Waiting list','Offer sent'\n",
    " 'Signed'\n",
    "\n",
    "the following status will have score of 0.5:\n",
    "'Interview Process','Rejected by client','Sent to Client'\n",
    "'Mission closed by client', 'Candidate not interested', 'Sourced'\n",
    "'Rejected by client 2nd round','Already In Client Pipeline'\n",
    "\n",
    "the following status will have score of 0:\n",
    "'Rejected by CP'"
   ]
  },
  {
   "cell_type": "code",
   "execution_count": 7,
   "id": "8c5f9022-a94f-4ddd-8820-b90ed24fbc83",
   "metadata": {},
   "outputs": [
    {
     "data": {
      "text/html": [
       "<div>\n",
       "<style scoped>\n",
       "    .dataframe tbody tr th:only-of-type {\n",
       "        vertical-align: middle;\n",
       "    }\n",
       "\n",
       "    .dataframe tbody tr th {\n",
       "        vertical-align: top;\n",
       "    }\n",
       "\n",
       "    .dataframe thead th {\n",
       "        text-align: right;\n",
       "    }\n",
       "</style>\n",
       "<table border=\"1\" class=\"dataframe\">\n",
       "  <thead>\n",
       "    <tr style=\"text-align: right;\">\n",
       "      <th></th>\n",
       "      <th>Unnamed: 0</th>\n",
       "      <th>missionCandidate</th>\n",
       "      <th>missionId</th>\n",
       "      <th>status</th>\n",
       "      <th>Time_matching_score</th>\n",
       "      <th>Salary_matching_score</th>\n",
       "      <th>Hardskill_Matching_Score</th>\n",
       "      <th>Degree_Subjects_Matching_Score</th>\n",
       "      <th>Position_Matching_Score</th>\n",
       "      <th>Location_Matching_Score</th>\n",
       "      <th>Language_Matching_Score</th>\n",
       "      <th>Reason</th>\n",
       "      <th>encoded_status</th>\n",
       "    </tr>\n",
       "  </thead>\n",
       "  <tbody>\n",
       "    <tr>\n",
       "      <th>0</th>\n",
       "      <td>0</td>\n",
       "      <td>rec0ijxnKLBBDIYQ7</td>\n",
       "      <td>rec7MvbTywFTvWryg</td>\n",
       "      <td>Rejected by CP</td>\n",
       "      <td>NaN</td>\n",
       "      <td>-0.2</td>\n",
       "      <td>0.8</td>\n",
       "      <td>0.5</td>\n",
       "      <td>0.7</td>\n",
       "      <td>1.0</td>\n",
       "      <td>0.0</td>\n",
       "      <td>The candidate has hardskills of javascript and...</td>\n",
       "      <td>0.0</td>\n",
       "    </tr>\n",
       "    <tr>\n",
       "      <th>1</th>\n",
       "      <td>1</td>\n",
       "      <td>rec0int3CbDJkliSl</td>\n",
       "      <td>recUwquxTAuaSpYwc</td>\n",
       "      <td>Interview Process</td>\n",
       "      <td>NaN</td>\n",
       "      <td>-6.0</td>\n",
       "      <td>0.8</td>\n",
       "      <td>0.5</td>\n",
       "      <td>0.7</td>\n",
       "      <td>1.0</td>\n",
       "      <td>1.0</td>\n",
       "      <td>The candidate has healthcare and ivd hardskill...</td>\n",
       "      <td>0.5</td>\n",
       "    </tr>\n",
       "  </tbody>\n",
       "</table>\n",
       "</div>"
      ],
      "text/plain": [
       "   Unnamed: 0   missionCandidate          missionId             status  \\\n",
       "0           0  rec0ijxnKLBBDIYQ7  rec7MvbTywFTvWryg     Rejected by CP   \n",
       "1           1  rec0int3CbDJkliSl  recUwquxTAuaSpYwc  Interview Process   \n",
       "\n",
       "   Time_matching_score  Salary_matching_score  Hardskill_Matching_Score  \\\n",
       "0                  NaN                   -0.2                       0.8   \n",
       "1                  NaN                   -6.0                       0.8   \n",
       "\n",
       "   Degree_Subjects_Matching_Score  Position_Matching_Score  \\\n",
       "0                             0.5                      0.7   \n",
       "1                             0.5                      0.7   \n",
       "\n",
       "   Location_Matching_Score  Language_Matching_Score  \\\n",
       "0                      1.0                      0.0   \n",
       "1                      1.0                      1.0   \n",
       "\n",
       "                                              Reason  encoded_status  \n",
       "0  The candidate has hardskills of javascript and...             0.0  \n",
       "1  The candidate has healthcare and ivd hardskill...             0.5  "
      ]
     },
     "execution_count": 7,
     "metadata": {},
     "output_type": "execute_result"
    }
   ],
   "source": [
    "# Define the encoding rules\n",
    "encoding_rules = {\n",
    "    'Screened by CP': 1,\n",
    "    'Rejected by client 3rd round': 1,\n",
    "    'Waiting list': 1,\n",
    "    'Offer sent': 1,\n",
    "    'Signed': 1,\n",
    "    'Interview Process': 0.5,\n",
    "    'Rejected by client': 0.5,\n",
    "    'Sent to Client': 0.5,\n",
    "    'Mission closed by client': 0.5,\n",
    "    'Candidate not interested': 0.5,\n",
    "    'Sourced': 0.5,\n",
    "    'Rejected by client 2nd round': 0.5,\n",
    "    'Already In Client Pipeline': 0.5,\n",
    "    'Rejected by CP': 0\n",
    "}\n",
    "\n",
    "# Create the new column using the encoding rules\n",
    "matching_df_final['encoded_status'] = matching_df_final[\n",
    "                                    'status'].apply(lambda x: encoding_rules.get(x, None))\n",
    "\n",
    "matching_df_final.head(2)"
   ]
  },
  {
   "cell_type": "code",
   "execution_count": 9,
   "id": "d1e80c77-a228-4a1d-9f15-a3f22c51fe48",
   "metadata": {},
   "outputs": [
    {
     "name": "stderr",
     "output_type": "stream",
     "text": [
      "/var/folders/g2/wtzv0kbn6sg1hy0s50dcj_780000gn/T/ipykernel_94452/3666797115.py:8: SettingWithCopyWarning: \n",
      "A value is trying to be set on a copy of a slice from a DataFrame.\n",
      "Try using .loc[row_indexer,col_indexer] = value instead\n",
      "\n",
      "See the caveats in the documentation: https://pandas.pydata.org/pandas-docs/stable/user_guide/indexing.html#returning-a-view-versus-a-copy\n",
      "  regression_df[column] = pd.to_numeric(regression_df[column], errors='coerce')\n",
      "/var/folders/g2/wtzv0kbn6sg1hy0s50dcj_780000gn/T/ipykernel_94452/3666797115.py:11: SettingWithCopyWarning: \n",
      "A value is trying to be set on a copy of a slice from a DataFrame\n",
      "\n",
      "See the caveats in the documentation: https://pandas.pydata.org/pandas-docs/stable/user_guide/indexing.html#returning-a-view-versus-a-copy\n",
      "  regression_df.replace(\"NA\", \"\", inplace=True)\n",
      "/var/folders/g2/wtzv0kbn6sg1hy0s50dcj_780000gn/T/ipykernel_94452/3666797115.py:14: SettingWithCopyWarning: \n",
      "A value is trying to be set on a copy of a slice from a DataFrame\n",
      "\n",
      "See the caveats in the documentation: https://pandas.pydata.org/pandas-docs/stable/user_guide/indexing.html#returning-a-view-versus-a-copy\n",
      "  regression_df.replace([np.inf, -np.inf], np.nan, inplace=True)  # Replaces infinite values with NaN\n",
      "/var/folders/g2/wtzv0kbn6sg1hy0s50dcj_780000gn/T/ipykernel_94452/3666797115.py:17: SettingWithCopyWarning: \n",
      "A value is trying to be set on a copy of a slice from a DataFrame\n",
      "\n",
      "See the caveats in the documentation: https://pandas.pydata.org/pandas-docs/stable/user_guide/indexing.html#returning-a-view-versus-a-copy\n",
      "  regression_df.fillna(0, inplace=True)  # Fills missing values with 0, change it according to your needs\n"
     ]
    }
   ],
   "source": [
    "# choose what columns we want\n",
    "\n",
    "regression_df = matching_df_final[['encoded_status','Time_matching_score',\n",
    "                                  'Salary_matching_score','Hardskill_Matching_Score',\n",
    "                                   'Degree_Subjects_Matching_Score','Position_Matching_Score',\n",
    "                                   'Location_Matching_Score','Language_Matching_Score',]]\n",
    "\n",
    "# Loop over each column and cast to numeric type\n",
    "for column in regression_df.columns:\n",
    "    regression_df[column] = pd.to_numeric(regression_df[column], errors='coerce')\n",
    "\n",
    "# Replacing \"NA\" values with empty values\n",
    "regression_df.replace(\"NA\", \"\", inplace=True)\n",
    "\n",
    "# Handle infinite values\n",
    "regression_df.replace([np.inf, -np.inf], np.nan, inplace=True)  # Replaces infinite values with NaN\n",
    "\n",
    "# Handle missing values\n",
    "regression_df.fillna(0, inplace=True)  # Fills missing values with 0, change it according to your needs\n",
    "\n"
   ]
  },
  {
   "cell_type": "code",
   "execution_count": 17,
   "id": "633a6a89-a800-4f57-a27d-5daaf5e56cac",
   "metadata": {},
   "outputs": [],
   "source": [
    "import os  \n",
    "os.makedirs('folder', exist_ok=True)  \n",
    "regression_df.to_csv('folder/regression_600rows_df.csv') "
   ]
  },
  {
   "cell_type": "markdown",
   "id": "980f1e90-d11f-485e-bbea-795a3ad777fb",
   "metadata": {},
   "source": [
    "As a rule of thumb, it is recommended to have a minimum of 10-20 times more observations than the number of parameters (features) in your regression model. So, with 7 parameters, you would ideally want at least 70-140 observations.(ChatGPT)\n",
    "\n",
    "below we will \n",
    "1. first input the first 100 data and then use the last 100 data to see the varience\n",
    "2. input the first 200 data as training data and then use the last 100 data to see the Root Mean Squared Error (RMSE)\n",
    "3. input the first 300 data as training data and then use the last 100 data to see the RMSE\n",
    "4. input the first 400 data as training data and then use the last 100 data to see the RMSE\n",
    "5. input the first 500 data as training data and then use the last 100 data to see the RMSE\n",
    "6. make a table to show if the accuracy improved.\n",
    "\n",
    "note that we have 647 matching data in total."
   ]
  },
  {
   "cell_type": "markdown",
   "id": "1286759e-95f3-4777-9bf5-c782e7bc351d",
   "metadata": {},
   "source": [
    "## Prepare the dataset for regression"
   ]
  },
  {
   "cell_type": "markdown",
   "id": "8c85b03b-2941-4325-8ac8-2873cc9d60dc",
   "metadata": {},
   "source": [
    "### Prepare the training set & the test set\n",
    "\n",
    "We will have \n",
    " 1. training set 1 = 1-100 rows\n",
    " 2. training set 2 = 1-200 rows\n",
    " 3. training set 3 = 1-300 rows\n",
    " 4. training set 4 = 1-400 rows\n",
    " 5. training set 5 = 1-500 rows\n",
    " 6. test set = 501-600 rows\n",
    "\n",
    "so we will have 5 trained models, then use test set(500-600 rows) \n",
    "to test the RMSE of those 5 models"
   ]
  },
  {
   "cell_type": "code",
   "execution_count": 22,
   "id": "1227ccbe-b97d-4b65-b8c2-6b5159eecb93",
   "metadata": {},
   "outputs": [],
   "source": [
    "training_set_1 = regression_df[:100]\n",
    "training_set_2 = regression_df[:200]\n",
    "training_set_3 = regression_df[:300]\n",
    "training_set_4 = regression_df[:400]\n",
    "training_set_5 = regression_df[:500]\n",
    "test_set = regression_df[500:600]"
   ]
  },
  {
   "cell_type": "markdown",
   "id": "83b6fa5d-c35a-46f2-83ef-1f2d1ea7a2a6",
   "metadata": {},
   "source": [
    "## Regression_1 with [0:100] input"
   ]
  },
  {
   "cell_type": "code",
   "execution_count": 21,
   "id": "c2732c5b-55b7-4b39-a4ee-f531297458b3",
   "metadata": {},
   "outputs": [
    {
     "data": {
      "text/plain": [
       "0.3360954898752861"
      ]
     },
     "execution_count": 21,
     "metadata": {},
     "output_type": "execute_result"
    }
   ],
   "source": [
    "import pandas as pd\n",
    "import statsmodels.api as sm\n",
    "from sklearn.metrics import r2_score, mean_squared_error, mean_absolute_error\n",
    "\n",
    "\n",
    "# Splitting the data into X and Y\n",
    "X = training_set_1.drop('encoded_status', axis=1)\n",
    "Y = training_set_1['encoded_status']\n",
    "\n",
    "# Adding a constant column to X\n",
    "X = sm.add_constant(X)\n",
    "\n",
    "# Running the regression\n",
    "model = sm.OLS(Y, X)\n",
    "results = model.fit()\n",
    "\n",
    "# Printing the regression summary\n",
    "# print(results.summary())\n",
    "\n",
    "\n",
    "# use test set to check the RMSE of this model's prediction\n",
    "\n",
    "# prepare the X for the prediction\n",
    "prediction_X = test_set.drop('encoded_status', axis=1)\n",
    "# Adding a constant column to the new X data\n",
    "prediction_X = sm.add_constant(prediction_X)\n",
    "# Predicting the values\n",
    "predictions = results.predict(prediction_X)\n",
    "\n",
    "# prepare the actual Y of the test set\n",
    "actual_Y = test_set['encoded_status']\n",
    "\n",
    "# compare the prediction and the accual Y to calculate the RMSE\n",
    "# Calculating RMSE\n",
    "rmse_1 = mean_squared_error(actual_Y, predictions, squared=False)\n",
    "rmse_1"
   ]
  },
  {
   "cell_type": "markdown",
   "id": "7815bac8-2bb6-4888-9691-9327110ba6f8",
   "metadata": {},
   "source": [
    "## Regression_2 with [:200] input"
   ]
  },
  {
   "cell_type": "code",
   "execution_count": 23,
   "id": "bcae4313-de7e-4fa7-81cd-2d9fdec822d0",
   "metadata": {},
   "outputs": [
    {
     "data": {
      "text/plain": [
       "0.33532848939548626"
      ]
     },
     "execution_count": 23,
     "metadata": {},
     "output_type": "execute_result"
    }
   ],
   "source": [
    "import pandas as pd\n",
    "import statsmodels.api as sm\n",
    "from sklearn.metrics import r2_score, mean_squared_error, mean_absolute_error\n",
    "\n",
    "\n",
    "# Splitting the data into X and Y\n",
    "X = training_set_2.drop('encoded_status', axis=1)\n",
    "Y = training_set_2['encoded_status']\n",
    "\n",
    "# Adding a constant column to X\n",
    "X = sm.add_constant(X)\n",
    "\n",
    "# Running the regression\n",
    "model = sm.OLS(Y, X)\n",
    "results = model.fit()\n",
    "\n",
    "# Printing the regression summary\n",
    "# print(results.summary())\n",
    "\n",
    "\n",
    "# use test set to check the RMSE of this model's prediction\n",
    "\n",
    "# prepare the X for the prediction\n",
    "prediction_X = test_set.drop('encoded_status', axis=1)\n",
    "# Adding a constant column to the new X data\n",
    "prediction_X = sm.add_constant(prediction_X)\n",
    "# Predicting the values\n",
    "predictions = results.predict(prediction_X)\n",
    "\n",
    "# prepare the actual Y of the test set\n",
    "actual_Y = test_set['encoded_status']\n",
    "\n",
    "# compare the prediction and the accual Y to calculate the RMSE\n",
    "# Calculating RMSE\n",
    "rmse_2 = mean_squared_error(actual_Y, predictions, squared=False)\n",
    "rmse_2"
   ]
  },
  {
   "cell_type": "markdown",
   "id": "6f907488-7808-4bcf-b8ea-41e1593dd0d8",
   "metadata": {},
   "source": [
    "## Regression_3 with [:300] input"
   ]
  },
  {
   "cell_type": "code",
   "execution_count": 24,
   "id": "fb2fa7bd-74ca-4a1f-b6aa-54f110613358",
   "metadata": {},
   "outputs": [
    {
     "data": {
      "text/plain": [
       "0.33391449490945185"
      ]
     },
     "execution_count": 24,
     "metadata": {},
     "output_type": "execute_result"
    }
   ],
   "source": [
    "import pandas as pd\n",
    "import statsmodels.api as sm\n",
    "from sklearn.metrics import r2_score, mean_squared_error, mean_absolute_error\n",
    "\n",
    "\n",
    "# Splitting the data into X and Y\n",
    "X = training_set_3.drop('encoded_status', axis=1)\n",
    "Y = training_set_3['encoded_status']\n",
    "\n",
    "# Adding a constant column to X\n",
    "X = sm.add_constant(X)\n",
    "\n",
    "# Running the regression\n",
    "model = sm.OLS(Y, X)\n",
    "results = model.fit()\n",
    "\n",
    "# Printing the regression summary\n",
    "# print(results.summary())\n",
    "\n",
    "\n",
    "# use test set to check the RMSE of this model's prediction\n",
    "\n",
    "# prepare the X for the prediction\n",
    "prediction_X = test_set.drop('encoded_status', axis=1)\n",
    "# Adding a constant column to the new X data\n",
    "prediction_X = sm.add_constant(prediction_X)\n",
    "# Predicting the values\n",
    "predictions = results.predict(prediction_X)\n",
    "\n",
    "# prepare the actual Y of the test set\n",
    "actual_Y = test_set['encoded_status']\n",
    "\n",
    "# compare the prediction and the accual Y to calculate the RMSE\n",
    "# Calculating RMSE\n",
    "rmse_3 = mean_squared_error(actual_Y, predictions, squared=False)\n",
    "rmse_3"
   ]
  },
  {
   "cell_type": "markdown",
   "id": "fc959f90-69fb-4b72-a892-9efd5bdef1fe",
   "metadata": {},
   "source": [
    "## Regression_4 with [:400] input"
   ]
  },
  {
   "cell_type": "code",
   "execution_count": 25,
   "id": "285ee90b-25c3-49b6-880b-e22ec87baccb",
   "metadata": {},
   "outputs": [
    {
     "data": {
      "text/plain": [
       "0.33213923394555767"
      ]
     },
     "execution_count": 25,
     "metadata": {},
     "output_type": "execute_result"
    }
   ],
   "source": [
    "import pandas as pd\n",
    "import statsmodels.api as sm\n",
    "from sklearn.metrics import r2_score, mean_squared_error, mean_absolute_error\n",
    "\n",
    "\n",
    "# Splitting the data into X and Y\n",
    "X = training_set_4.drop('encoded_status', axis=1)\n",
    "Y = training_set_4['encoded_status']\n",
    "\n",
    "# Adding a constant column to X\n",
    "X = sm.add_constant(X)\n",
    "\n",
    "# Running the regression\n",
    "model = sm.OLS(Y, X)\n",
    "results = model.fit()\n",
    "\n",
    "# Printing the regression summary\n",
    "# print(results.summary())\n",
    "\n",
    "\n",
    "# use test set to check the RMSE of this model's prediction\n",
    "\n",
    "# prepare the X for the prediction\n",
    "prediction_X = test_set.drop('encoded_status', axis=1)\n",
    "# Adding a constant column to the new X data\n",
    "prediction_X = sm.add_constant(prediction_X)\n",
    "# Predicting the values\n",
    "predictions = results.predict(prediction_X)\n",
    "\n",
    "# prepare the actual Y of the test set\n",
    "actual_Y = test_set['encoded_status']\n",
    "\n",
    "# compare the prediction and the accual Y to calculate the RMSE\n",
    "# Calculating RMSE\n",
    "rmse_4 = mean_squared_error(actual_Y, predictions, squared=False)\n",
    "rmse_4"
   ]
  },
  {
   "cell_type": "markdown",
   "id": "c3d33402-60b2-4a49-ad95-f4437bf047e1",
   "metadata": {},
   "source": [
    "## Regression_5 with [:500] input"
   ]
  },
  {
   "cell_type": "code",
   "execution_count": 26,
   "id": "708a94fa-6912-4c9e-8bb4-45d2e46c1451",
   "metadata": {},
   "outputs": [
    {
     "data": {
      "text/plain": [
       "0.33148344372343774"
      ]
     },
     "execution_count": 26,
     "metadata": {},
     "output_type": "execute_result"
    }
   ],
   "source": [
    "import pandas as pd\n",
    "import statsmodels.api as sm\n",
    "from sklearn.metrics import r2_score, mean_squared_error, mean_absolute_error\n",
    "\n",
    "\n",
    "# Splitting the data into X and Y\n",
    "X = training_set_5.drop('encoded_status', axis=1)\n",
    "Y = training_set_5['encoded_status']\n",
    "\n",
    "# Adding a constant column to X\n",
    "X = sm.add_constant(X)\n",
    "\n",
    "# Running the regression\n",
    "model = sm.OLS(Y, X)\n",
    "results = model.fit()\n",
    "\n",
    "# Printing the regression summary\n",
    "# print(results.summary())\n",
    "\n",
    "\n",
    "# use test set to check the RMSE of this model's prediction\n",
    "\n",
    "# prepare the X for the prediction\n",
    "prediction_X = test_set.drop('encoded_status', axis=1)\n",
    "# Adding a constant column to the new X data\n",
    "prediction_X = sm.add_constant(prediction_X)\n",
    "# Predicting the values\n",
    "predictions = results.predict(prediction_X)\n",
    "\n",
    "# prepare the actual Y of the test set\n",
    "actual_Y = test_set['encoded_status']\n",
    "\n",
    "# compare the prediction and the accual Y to calculate the RMSE\n",
    "# Calculating RMSE\n",
    "rmse_5 = mean_squared_error(actual_Y, predictions, squared=False)\n",
    "rmse_5"
   ]
  },
  {
   "cell_type": "code",
   "execution_count": 27,
   "id": "e8e683cd-5ff2-4b63-be79-70165816ec14",
   "metadata": {},
   "outputs": [
    {
     "name": "stdout",
     "output_type": "stream",
     "text": [
      "                            OLS Regression Results                            \n",
      "==============================================================================\n",
      "Dep. Variable:         encoded_status   R-squared:                       0.042\n",
      "Model:                            OLS   Adj. R-squared:                  0.028\n",
      "Method:                 Least Squares   F-statistic:                     3.047\n",
      "Date:                Fri, 16 Jun 2023   Prob (F-statistic):            0.00379\n",
      "Time:                        11:16:21   Log-Likelihood:                -106.68\n",
      "No. Observations:                 500   AIC:                             229.4\n",
      "Df Residuals:                     492   BIC:                             263.1\n",
      "Df Model:                           7                                         \n",
      "Covariance Type:            nonrobust                                         \n",
      "==================================================================================================\n",
      "                                     coef    std err          t      P>|t|      [0.025      0.975]\n",
      "--------------------------------------------------------------------------------------------------\n",
      "const                              0.3677      0.216      1.701      0.090      -0.057       0.792\n",
      "Time_matching_score               -0.1984      0.124     -1.595      0.111      -0.443       0.046\n",
      "Salary_matching_score              0.0009      0.001      1.532      0.126      -0.000       0.002\n",
      "Hardskill_Matching_Score          -0.1683      0.231     -0.729      0.466      -0.622       0.285\n",
      "Degree_Subjects_Matching_Score    -0.3683      0.144     -2.564      0.011      -0.651      -0.086\n",
      "Position_Matching_Score            0.3673      0.145      2.536      0.012       0.083       0.652\n",
      "Location_Matching_Score            0.0573      0.028      2.030      0.043       0.002       0.113\n",
      "Language_Matching_Score           -0.0278      0.039     -0.712      0.477      -0.104       0.049\n",
      "==============================================================================\n",
      "Omnibus:                       27.588   Durbin-Watson:                   1.925\n",
      "Prob(Omnibus):                  0.000   Jarque-Bera (JB):               18.828\n",
      "Skew:                           0.356   Prob(JB):                     8.16e-05\n",
      "Kurtosis:                       2.369   Cond. No.                         508.\n",
      "==============================================================================\n",
      "\n",
      "Notes:\n",
      "[1] Standard Errors assume that the covariance matrix of the errors is correctly specified.\n"
     ]
    }
   ],
   "source": [
    "print(results.summary())"
   ]
  },
  {
   "cell_type": "markdown",
   "id": "8330cf33-65c5-47d4-84cf-cc721f63b92b",
   "metadata": {},
   "source": [
    "## Non-negative least squares (NNLS) algorithm\n",
    "\n",
    "We can see the above coefficients are sometimes negative. It make more sense if all of them are positive. so We force them to be positive in below code."
   ]
  },
  {
   "cell_type": "code",
   "execution_count": 30,
   "id": "533b5003-2e61-434f-a431-978061dd1994",
   "metadata": {},
   "outputs": [
    {
     "name": "stdout",
     "output_type": "stream",
     "text": [
      "Coefficients:\n",
      "[0.         0.00090228 0.08520767 0.         0.28650365 0.05688531\n",
      " 0.        ]\n",
      "Predictions:\n",
      "[0.38290473 0.26871869 0.26871869 0.26871869 0.32470172 0.31820534\n",
      " 0.38290473 0.26871869 0.38290473 0.38245359 0.37864434 0.32601942\n",
      " 0.32524309 0.24306616 0.38290473 0.325604   0.24045335 0.26832891\n",
      " 0.38290473 0.38290473 0.26870245 0.32601942 0.38290473 0.26871869\n",
      " 0.24315639 0.325604   0.38020106 0.24315639 0.38200245 0.38290473\n",
      " 0.325604   0.32601942 0.38290473 0.38290473 0.26871869 0.26601187\n",
      " 0.26871869 0.37705077 0.29677318 0.26871869 0.24281172 0.38290473\n",
      " 0.38290473 0.32583897 0.3000417  0.32479195 0.38290473 0.325604\n",
      " 0.38290473 0.32601942 0.32565851 0.26871869 0.26826755 0.31147339\n",
      " 0.26781642 0.26871869 0.38200245 0.32601942 0.32466601 0.32601942\n",
      " 0.26871869 0.26871869 0.26871869 0.38200245 0.26871869 0.32425059\n",
      " 0.24225411 0.26556416 0.325604   0.325604   0.325604   0.325604\n",
      " 0.26871869 0.38245359 0.26871869 0.37864434 0.26811597 0.32601942\n",
      " 0.38245359 0.32016546 0.325604   0.24153229 0.38200245 0.26871869\n",
      " 0.38290473 0.325604   0.38290473 0.325604   0.37659439 0.24315639\n",
      " 0.325604   0.32511715 0.26826755 0.38105506 0.38290473 0.24315639\n",
      " 0.38200245 0.37864434 0.32601942 0.38290473]\n",
      "RMSE: 0.33124539554087173\n"
     ]
    }
   ],
   "source": [
    "import pandas as pd\n",
    "import numpy as np\n",
    "from scipy.optimize import nnls\n",
    "\n",
    "# prepare the training data\n",
    "# Splitting the training data into X and Y\n",
    "X = training_set_5.drop('encoded_status', axis=1)\n",
    "Y = training_set_5['encoded_status']\n",
    "\n",
    "# prepare the test data\n",
    "# prepare the X for the prediction\n",
    "prediction_X = test_set.drop('encoded_status', axis=1)\n",
    "# prepare the actual Y of the test set\n",
    "actual_Y = test_set['encoded_status']\n",
    "\n",
    "\n",
    "# Performing non-negative regression using NNLS algorithm\n",
    "coef, _ = nnls(X, Y)\n",
    "\n",
    "# Making predictions using NNLS coefficients\n",
    "predictions = np.dot(prediction_X.values, coef)\n",
    "\n",
    "# Calculating RMSE\n",
    "rmse = np.sqrt(mean_squared_error(actual_Y, predictions))\n",
    "\n",
    "\n",
    "# Printing the coefficients\n",
    "print(\"Coefficients:\")\n",
    "print(coef)\n",
    "# Printing the predictions and RMSE\n",
    "print(\"Predictions:\")\n",
    "print(predictions)\n",
    "print(\"RMSE:\", rmse)"
   ]
  },
  {
   "cell_type": "markdown",
   "id": "72998886-6ecb-416c-b02d-95f2babefc02",
   "metadata": {},
   "source": [
    "we can see if we change the regression to Non-negative least squares (NNLS), the RMSE is more or less the same, just with the interpretability increased. we can tell the meaning of each coefficient now.\n",
    "\n",
    "From the Coefficients we can see the first three important scores are:\n",
    "\n",
    "1. Position_Matching_Score (0.286)\n",
    "2. Hardskill_Matching_Score (0.085)\n",
    "3. Location_Matching_Score (0.056)"
   ]
  },
  {
   "cell_type": "code",
   "execution_count": null,
   "id": "2b18fe96-1124-4015-b378-ec3f23065173",
   "metadata": {},
   "outputs": [],
   "source": []
  }
 ],
 "metadata": {
  "kernelspec": {
   "display_name": "Python 3 (ipykernel)",
   "language": "python",
   "name": "python3"
  },
  "language_info": {
   "codemirror_mode": {
    "name": "ipython",
    "version": 3
   },
   "file_extension": ".py",
   "mimetype": "text/x-python",
   "name": "python",
   "nbconvert_exporter": "python",
   "pygments_lexer": "ipython3",
   "version": "3.9.13"
  }
 },
 "nbformat": 4,
 "nbformat_minor": 5
}
