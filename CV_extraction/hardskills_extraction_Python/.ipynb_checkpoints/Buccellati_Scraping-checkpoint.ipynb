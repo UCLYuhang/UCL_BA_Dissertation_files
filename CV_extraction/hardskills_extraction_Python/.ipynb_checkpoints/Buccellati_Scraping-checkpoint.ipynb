{
 "cells": [
  {
   "cell_type": "code",
   "execution_count": 1,
   "id": "e874706b-c781-4e99-9ebc-22611e3df256",
   "metadata": {},
   "outputs": [
    {
     "name": "stdout",
     "output_type": "stream",
     "text": [
      "Collecting pyppeteer\n",
      "  Downloading pyppeteer-1.0.2-py3-none-any.whl (83 kB)\n",
      "\u001b[2K     \u001b[90m━━━━━━━━━━━━━━━━━━━━━━━━━━━━━━━━━━━━━━━━\u001b[0m \u001b[32m83.4/83.4 kB\u001b[0m \u001b[31m2.2 MB/s\u001b[0m eta \u001b[36m0:00:00\u001b[0m\n",
      "\u001b[?25hCollecting asyncio\n",
      "  Downloading asyncio-3.4.3-py3-none-any.whl (101 kB)\n",
      "\u001b[2K     \u001b[90m━━━━━━━━━━━━━━━━━━━━━━━━━━━━━━━━━━━━━━━\u001b[0m \u001b[32m101.8/101.8 kB\u001b[0m \u001b[31m7.6 MB/s\u001b[0m eta \u001b[36m0:00:00\u001b[0m\n",
      "\u001b[?25hRequirement already satisfied: appdirs<2.0.0,>=1.4.3 in /Users/anothergreenday/opt/anaconda3/lib/python3.9/site-packages (from pyppeteer) (1.4.4)\n",
      "Requirement already satisfied: certifi>=2021 in /Users/anothergreenday/opt/anaconda3/lib/python3.9/site-packages (from pyppeteer) (2022.9.24)\n",
      "Requirement already satisfied: importlib-metadata>=1.4 in /Users/anothergreenday/opt/anaconda3/lib/python3.9/site-packages (from pyppeteer) (4.11.3)\n",
      "Collecting pyee<9.0.0,>=8.1.0 (from pyppeteer)\n",
      "  Downloading pyee-8.2.2-py2.py3-none-any.whl (12 kB)\n",
      "Requirement already satisfied: tqdm<5.0.0,>=4.42.1 in /Users/anothergreenday/opt/anaconda3/lib/python3.9/site-packages (from pyppeteer) (4.64.1)\n",
      "Requirement already satisfied: urllib3<2.0.0,>=1.25.8 in /Users/anothergreenday/opt/anaconda3/lib/python3.9/site-packages (from pyppeteer) (1.26.11)\n",
      "Collecting websockets<11.0,>=10.0 (from pyppeteer)\n",
      "  Downloading websockets-10.4-cp39-cp39-macosx_10_9_x86_64.whl (97 kB)\n",
      "\u001b[2K     \u001b[90m━━━━━━━━━━━━━━━━━━━━━━━━━━━━━━━━━━━━━━━━\u001b[0m \u001b[32m97.9/97.9 kB\u001b[0m \u001b[31m8.3 MB/s\u001b[0m eta \u001b[36m0:00:00\u001b[0m\n",
      "\u001b[?25hRequirement already satisfied: zipp>=0.5 in /Users/anothergreenday/opt/anaconda3/lib/python3.9/site-packages (from importlib-metadata>=1.4->pyppeteer) (3.8.0)\n",
      "Installing collected packages: pyee, asyncio, websockets, pyppeteer\n",
      "Successfully installed asyncio-3.4.3 pyee-8.2.2 pyppeteer-1.0.2 websockets-10.4\n"
     ]
    }
   ],
   "source": [
    "# ! pip install pyppeteer asyncio"
   ]
  },
  {
   "cell_type": "code",
   "execution_count": 6,
   "id": "9d8e6ae3-3c67-4962-8388-ae399f56c904",
   "metadata": {},
   "outputs": [],
   "source": [
    "# ! pip install nest_asyncio\n"
   ]
  },
  {
   "cell_type": "code",
   "execution_count": 10,
   "id": "98472385-400f-4bca-b232-1416a8dfcaf6",
   "metadata": {},
   "outputs": [
    {
     "name": "stdout",
     "output_type": "stream",
     "text": [
      "{'size41': 0, 'size42': 0, 'size43': 0, 'size44': 0, 'size45': 0, 'size46': 0, 'size47': 0, 'size48': 0, 'size49': 1, 'size50': 1, 'size51': 1, 'size52': 1, 'size53': 1, 'size54': 1, 'size55': 1, 'size56': 0, 'size57': 0, 'size58': 0, 'size59': 0, 'size60': 0}\n",
      "File written to /Users/anothergreenday/Downloads/sizes.json\n"
     ]
    }
   ],
   "source": [
    "import asyncio\n",
    "from pyppeteer import launch\n",
    "import nest_asyncio\n",
    "import json\n",
    "import os\n",
    "\n",
    "nest_asyncio.apply()\n",
    "\n",
    "async def main():\n",
    "    # 启动浏览器\n",
    "    browser = await launch()\n",
    "\n",
    "    # 创建新页面\n",
    "    page = await browser.newPage()\n",
    "\n",
    "    # 导航到目标网页\n",
    "    await page.goto('https://www.buccellati.com/en_gb/blossoms-vermeil-eternelle-jagete012387.html?gclid=EAIaIQobChMI2dGRh8TC_gIV1WDmCh0kww36EAQYDyABEgLOV_D_BwE%E3%80%81')\n",
    "\n",
    "    # 执行 JavaScript 代码获取下拉框选项\n",
    "    dropdown_options = await page.evaluate('''\n",
    "        () => {\n",
    "            var sizes = {};\n",
    "            for (var i = 41; i <= 60; i++) {\n",
    "                sizes[\"size\" + i] = 0;\n",
    "            }\n",
    "\n",
    "            var dropdown = document.querySelector(\"ul[role='listbox']\");\n",
    "            var options = dropdown.querySelectorAll(\"li\");\n",
    "\n",
    "            options.forEach(function(option) {\n",
    "                var size = parseInt(option.textContent);\n",
    "                if (size >= 41 && size <= 60) {\n",
    "                    sizes[\"size\" + size] = 1;\n",
    "                }\n",
    "            });\n",
    "\n",
    "            return sizes;\n",
    "        }\n",
    "    ''')\n",
    "\n",
    "    print(dropdown_options)\n",
    "\n",
    "    # Store the result in a JSON file in your downloads folder\n",
    "    file_path = os.path.expanduser('~/Downloads/sizes.json')\n",
    "    with open(file_path, 'w') as f:\n",
    "        json.dump(dropdown_options, f)\n",
    "    print(f\"File written to {file_path}\")\n",
    "\n",
    "\n",
    "    # 关闭浏览器\n",
    "    await browser.close()\n",
    "\n",
    "\n",
    "# 运行事件循环\n",
    "asyncio.get_event_loop().run_until_complete(main())\n"
   ]
  },
  {
   "cell_type": "code",
   "execution_count": null,
   "id": "61956cd7-4049-41bf-8221-9de0ec785cdc",
   "metadata": {},
   "outputs": [],
   "source": []
  }
 ],
 "metadata": {
  "kernelspec": {
   "display_name": "Python 3 (ipykernel)",
   "language": "python",
   "name": "python3"
  },
  "language_info": {
   "codemirror_mode": {
    "name": "ipython",
    "version": 3
   },
   "file_extension": ".py",
   "mimetype": "text/x-python",
   "name": "python",
   "nbconvert_exporter": "python",
   "pygments_lexer": "ipython3",
   "version": "3.9.13"
  }
 },
 "nbformat": 4,
 "nbformat_minor": 5
}
