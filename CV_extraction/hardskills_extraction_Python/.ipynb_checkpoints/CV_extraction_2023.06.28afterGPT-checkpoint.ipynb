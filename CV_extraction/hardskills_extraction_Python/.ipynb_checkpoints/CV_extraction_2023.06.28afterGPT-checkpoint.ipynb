{
 "cells": [
  {
   "cell_type": "code",
   "execution_count": 3,
   "id": "63daac3b-dd5b-4b8d-ac9a-b76a7b72154c",
   "metadata": {},
   "outputs": [],
   "source": [
    "import pandas as pd\n",
    "\n",
    "hardskill = pd.read_csv('HardSkill.csv')"
   ]
  },
  {
   "cell_type": "code",
   "execution_count": 4,
   "id": "e50321ac-7cb4-4a4c-bfeb-29bcfb2df956",
   "metadata": {},
   "outputs": [],
   "source": [
    "hardskill_list = hardskill['label'].tolist()"
   ]
  },
  {
   "cell_type": "code",
   "execution_count": null,
   "id": "8a1a9103-b0f7-4091-9538-9690c6a69d69",
   "metadata": {},
   "outputs": [],
   "source": [
    "# ! pip install pdf2image\n",
    "# ! pip3 install pdfminer.six\n",
    "\n",
    "# ! pip install opencv-python-headless\n",
    "# ! pip3 install torch torchvision torchaudio\n",
    "# ! pip install easyocr"
   ]
  },
  {
   "cell_type": "code",
   "execution_count": 16,
   "id": "fa100427-3402-41fd-aa68-7137da37e103",
   "metadata": {},
   "outputs": [
    {
     "name": "stdout",
     "output_type": "stream",
     "text": [
      "Extracted hard skills have been saved in: extracted_skills_trans_to_English.csv\n"
     ]
    }
   ],
   "source": [
    "# to build some OCR extractors\n",
    "\n",
    "# Import Reader from easyocr and convert_from_path from pdf2image\n",
    "from easyocr import Reader\n",
    "from pdf2image import convert_from_path\n",
    "from PIL import Image\n",
    "import numpy as np\n",
    "\n",
    "import tempfile\n",
    "import os\n",
    "import csv\n",
    "import re\n",
    "from pdfminer.high_level import extract_text\n",
    "from googletrans import Translator\n",
    "\n",
    "# define the extract function\n",
    "def read_text(pdf_path, reader, in_line=True):\n",
    "    with tempfile.TemporaryDirectory() as path:\n",
    "        images = convert_from_path(pdf_path, output_folder=path, poppler_path=\"/opt/homebrew/bin/\")  # Convert the PDF to images\n",
    "        text = []\n",
    "        for image in images:\n",
    "            image_np = np.array(image)\n",
    "            if in_line:\n",
    "                lines = reader.readtext(image_np, detail=0, paragraph=True)\n",
    "            else:\n",
    "                lines = reader.readtext(image_np, detail=0)\n",
    "            for line in lines:\n",
    "                text.append(line)\n",
    "        return \"\\n\".join(text)\n",
    "    \n",
    "# Load models for official UN languages\n",
    "reader_lang_map = {\n",
    "    'fr': Reader(['en', 'fr']),\n",
    "    'ar': Reader(['en', 'ar']),\n",
    "    'zh-cn': Reader(['en', 'ch_sim']),\n",
    "    'ru': Reader(['en', 'ru']),\n",
    "    'es': Reader(['en', 'es'])\n",
    "}\n",
    "\n",
    "def translate_text(text, source='fr', target='en'):\n",
    "    translator = Translator()\n",
    "    translation = translator.translate(text, src=source, dest=target)\n",
    "    return translation.text\n",
    "\n",
    "# Define the list of hard skills you want to extract\n",
    "hard_skills = hardskill_list\n",
    "\n",
    "# Define the path to the folder containing the CVs\n",
    "cv_folder = '80_CV'\n",
    "\n",
    "# Create an empty list to store the extracted hard skills\n",
    "extracted_skills_list = []\n",
    "\n",
    "# Iterate through the PDF files in the folder\n",
    "for filename in os.listdir(cv_folder):\n",
    "    if filename.endswith('.pdf'):\n",
    "        cv_path = os.path.join(cv_folder, filename)\n",
    "        \n",
    "        # Convert the PDF to text\n",
    "        cv_text = extract_text(cv_path)\n",
    "\n",
    "        source_lang = 'en'\n",
    "        \n",
    "        # If the text extracted is None or an empty string, use OCR to extract the text\n",
    "        if cv_text is None or cv_text.strip() == '':\n",
    "            for lang, reader in reader_lang_map.items():\n",
    "                cv_text = read_text(cv_path, reader)\n",
    "                if cv_text is not None and cv_text.strip() != '':\n",
    "                    source_lang = lang\n",
    "                    break\n",
    "        \n",
    "        # If the text is still None or an empty string, skip this iteration\n",
    "        if cv_text is None or cv_text.strip() == '':\n",
    "            continue\n",
    "        \n",
    "        # Preprocess the text (remove newlines, extra spaces, etc.)\n",
    "        cv_text = ' '.join(cv_text.split())\n",
    "        \n",
    "        # perform the translation\n",
    "        cv_text_translated = translate_text(cv_text, source=source_lang, target='en')\n",
    "        \n",
    "        # Extract the hard skills from the CV\n",
    "        # extracted_skills = [skill for skill in hard_skills if re.search(r'\\b{}\\b'.format(re.escape(skill)), cv_text_translated, re.IGNORECASE)]\n",
    "        extracted_skills = [skill for skill in hard_skills if re.search(r'(?:^|\\s){}(?:$|\\s)'.format(re.escape(skill)), cv_text_translated, re.IGNORECASE)]\n",
    "\n",
    "        \n",
    "        # Store the extracted hard skills for the current CV\n",
    "        extracted_skills_list.append({'filename': filename, 'hardskill': ', '.join(extracted_skills)})\n",
    "\n",
    "# Define the path for the output CSV file\n",
    "output_csv = 'extracted_skills_trans_to_English.csv'\n",
    "\n",
    "# Write the extracted skills to the CSV file\n",
    "with open(output_csv, 'w', newline='') as file:\n",
    "    fieldnames = ['filename', 'hardskill']\n",
    "    writer = csv.DictWriter(file, fieldnames=fieldnames)\n",
    "    writer.writeheader()\n",
    "    writer.writerows(extracted_skills_list)\n",
    "\n",
    "print(\"Extracted hard skills have been saved in:\", output_csv)\n"
   ]
  },
  {
   "cell_type": "markdown",
   "id": "cc9f7351-71f1-4ba4-8fe9-173a400141c8",
   "metadata": {},
   "source": [
    "aboout the regex: chatGPT said\n",
    "\n",
    "However, the issue with your use case (xxx.com should not be extracted) might be arising due to the presence of a dot (.) which is a non-word character. In the regular expression world, the dot is not considered as part of the word. Therefore, a word boundary (\\b) can occur before or after a dot.\n",
    "\n",
    "To fix this, we need to change the definition of what we consider a word boundary. Instead of using \"\\b\", we can use whitespace to denote a boundary. \n",
    "In this regex pattern:\n",
    "\n",
    "(?:^|\\s) matches the start of the string or a whitespace.\n",
    "(?:$|\\s) matches the end of the string or a whitespace.\n",
    "This means it will only match your skill if it is either at the start or end of a string or surrounded by whitespace."
   ]
  },
  {
   "cell_type": "code",
   "execution_count": null,
   "id": "ec26a836-da18-4dda-873c-c4afb5ab29fe",
   "metadata": {},
   "outputs": [],
   "source": []
  },
  {
   "cell_type": "code",
   "execution_count": null,
   "id": "a38f5aab-67e8-43aa-8450-03c9b7868b52",
   "metadata": {},
   "outputs": [],
   "source": []
  }
 ],
 "metadata": {
  "kernelspec": {
   "display_name": "Python 3 (ipykernel)",
   "language": "python",
   "name": "python3"
  },
  "language_info": {
   "codemirror_mode": {
    "name": "ipython",
    "version": 3
   },
   "file_extension": ".py",
   "mimetype": "text/x-python",
   "name": "python",
   "nbconvert_exporter": "python",
   "pygments_lexer": "ipython3",
   "version": "3.9.13"
  }
 },
 "nbformat": 4,
 "nbformat_minor": 5
}
